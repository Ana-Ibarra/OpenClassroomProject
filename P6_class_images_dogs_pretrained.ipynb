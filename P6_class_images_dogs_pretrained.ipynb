{
  "nbformat": 4,
  "nbformat_minor": 0,
  "metadata": {
    "colab": {
      "name": "P6_class_images_dogs_pretrained.ipynb",
      "provenance": [],
      "authorship_tag": "ABX9TyOSmsF6YxwyXc2I2M2WrYJA",
      "include_colab_link": true
    },
    "kernelspec": {
      "name": "python3",
      "display_name": "Python 3"
    },
    "accelerator": "GPU"
  },
  "cells": [
    {
      "cell_type": "markdown",
      "metadata": {
        "id": "view-in-github",
        "colab_type": "text"
      },
      "source": [
        "<a href=\"https://colab.research.google.com/github/Ana-Ibarra/OpenClassroomProject/blob/Pretrained/P6_class_images_dogs_pretrained.ipynb\" target=\"_parent\"><img src=\"https://colab.research.google.com/assets/colab-badge.svg\" alt=\"Open In Colab\"/></a>"
      ]
    },
    {
      "cell_type": "code",
      "metadata": {
        "id": "BRREppn4PrOs"
      },
      "source": [
        "import os\n",
        "import cv2\n",
        "import shutil\n",
        "import numpy as np\n",
        "from PIL import Image\n",
        "import matplotlib.pyplot as plt\n",
        "from sklearn.model_selection import train_test_split\n",
        "import tensorflow as tf\n",
        "\n",
        "import keras\n",
        "from keras.models import Sequential\n",
        "from tensorflow.keras import layers\n",
        "from keras.layers import Conv2D,MaxPooling2D,Dense,Flatten,Dropout\n",
        "from keras.layers.normalization import BatchNormalization\n",
        "from keras.callbacks import History \n",
        "from keras.callbacks import ModelCheckpoint, EarlyStopping\n",
        "history = History()"
      ],
      "execution_count": null,
      "outputs": []
    },
    {
      "cell_type": "code",
      "metadata": {
        "id": "VzHZG5qeQ9BU",
        "colab": {
          "base_uri": "https://localhost:8080/"
        },
        "outputId": "2c9828d1-c7af-449b-f1de-ea544af451ab"
      },
      "source": [
        "from google.colab import drive\n",
        "drive.mount('/content/drive')"
      ],
      "execution_count": null,
      "outputs": [
        {
          "output_type": "stream",
          "text": [
            "Drive already mounted at /content/drive; to attempt to forcibly remount, call drive.mount(\"/content/drive\", force_remount=True).\n"
          ],
          "name": "stdout"
        }
      ]
    },
    {
      "cell_type": "code",
      "metadata": {
        "id": "6sLSi-AxPrPQ",
        "colab": {
          "base_uri": "https://localhost:8080/"
        },
        "outputId": "1af7bafe-3e89-41e6-fb58-fd4f76b39777"
      },
      "source": [
        "fpath = \"/content/drive/My Drive/OC_P6_images/images_squared_split/\"\n",
        "random_seed = 42\n",
        "squared_size = 299\n",
        "batch_size = 64\n",
        "categories = os.listdir(fpath+\"train\")\n",
        "print(\"List of categories = \", categories,\"\\n\\nNo. of categories = \", len(categories))"
      ],
      "execution_count": null,
      "outputs": [
        {
          "output_type": "stream",
          "text": [
            "List of categories =  ['n02087046-toy_terrier', 'n02085782-Japanese_spaniel', 'n02086079-Pekinese', 'n02086646-Blenheim_spaniel', 'n02086240-Shih-Tzu', 'n02085620-Chihuahua', 'n02088094-Afghan_hound', 'n02087394-Rhodesian_ridgeback', 'n02085936-Maltese_dog', 'n02086910-papillon', 'n02088238-basset', 'n02088466-bloodhound', 'n02088364-beagle', 'n02088632-bluetick', 'n02089867-Walker_hound', 'n02089078-black-and-tan_coonhound', 'n02089973-English_foxhound', 'n02090379-redbone', 'n02090622-borzoi', 'n02090721-Irish_wolfhound', 'n02091244-Ibizan_hound', 'n02091032-Italian_greyhound', 'n02091467-Norwegian_elkhound', 'n02091635-otterhound', 'n02091134-whippet', 'n02091831-Saluki', 'n02092002-Scottish_deerhound', 'n02092339-Weimaraner', 'n02093428-American_Staffordshire_terrier', 'n02093256-Staffordshire_bullterrier', 'n02093647-Bedlington_terrier', 'n02093859-Kerry_blue_terrier', 'n02093754-Border_terrier', 'n02094258-Norwich_terrier', 'n02094114-Norfolk_terrier', 'n02093991-Irish_terrier', 'n02095314-wire-haired_fox_terrier', 'n02094433-Yorkshire_terrier', 'n02095570-Lakeland_terrier', 'n02095889-Sealyham_terrier', 'n02096051-Airedale', 'n02096177-cairn', 'n02096437-Dandie_Dinmont', 'n02096294-Australian_terrier', 'n02096585-Boston_bull', 'n02097047-miniature_schnauzer', 'n02097209-standard_schnauzer', 'n02097130-giant_schnauzer', 'n02097298-Scotch_terrier', 'n02097474-Tibetan_terrier', 'n02097658-silky_terrier', 'n02098105-soft-coated_wheaten_terrier', 'n02098286-West_Highland_white_terrier', 'n02098413-Lhasa', 'n02099429-curly-coated_retriever', 'n02099267-flat-coated_retriever', 'n02099601-golden_retriever', 'n02099712-Labrador_retriever', 'n02099849-Chesapeake_Bay_retriever', 'n02100236-German_short-haired_pointer', 'n02100583-vizsla', 'n02100735-English_setter', 'n02101388-Brittany_spaniel', 'n02100877-Irish_setter', 'n02101006-Gordon_setter', 'n02101556-clumber', 'n02102040-English_springer', 'n02102177-Welsh_springer_spaniel', 'n02102318-cocker_spaniel', 'n02102480-Sussex_spaniel', 'n02102973-Irish_water_spaniel', 'n02104365-schipperke', 'n02104029-kuvasz', 'n02105056-groenendael', 'n02105412-kelpie', 'n02105251-briard', 'n02105162-malinois', 'n02105641-Old_English_sheepdog', 'n02105505-komondor', 'n02105855-Shetland_sheepdog', 'n02106030-collie', 'n02106382-Bouvier_des_Flandres', 'n02106166-Border_collie', 'n02106662-German_shepherd', 'n02106550-Rottweiler', 'n02107142-Doberman', 'n02107312-miniature_pinscher', 'n02107574-Greater_Swiss_Mountain_dog', 'n02107683-Bernese_mountain_dog', 'n02107908-Appenzeller', 'n02108000-EntleBucher', 'n02108089-boxer', 'n02108422-bull_mastiff', 'n02108551-Tibetan_mastiff', 'n02108915-French_bulldog', 'n02109047-Great_Dane', 'n02109525-Saint_Bernard', 'n02110063-malamute', 'n02109961-Eskimo_dog', 'n02110185-Siberian_husky', 'n02110627-affenpinscher', 'n02110806-basenji', 'n02110958-pug', 'n02111129-Leonberg', 'n02111277-Newfoundland', 'n02111500-Great_Pyrenees', 'n02111889-Samoyed', 'n02112137-chow', 'n02112018-Pomeranian', 'n02112350-keeshond', 'n02112706-Brabancon_griffon', 'n02113186-Cardigan', 'n02113023-Pembroke', 'n02113712-miniature_poodle', 'n02113624-toy_poodle', 'n02113799-standard_poodle', 'n02113978-Mexican_hairless', 'n02115641-dingo', 'n02115913-dhole', 'n02116738-African_hunting_dog'] \n",
            "\n",
            "No. of categories =  120\n"
          ],
          "name": "stdout"
        }
      ]
    },
    {
      "cell_type": "code",
      "metadata": {
        "colab": {
          "base_uri": "https://localhost:8080/"
        },
        "id": "_f0NEJrUCbbk",
        "outputId": "7535d3b0-c601-49a2-9f44-5cf8e7bd68fd"
      },
      "source": [
        "train_ds = keras.preprocessing.image_dataset_from_directory(fpath+\"train\",\n",
        "    labels=\"inferred\",\n",
        "    label_mode='int',\n",
        "    class_names=None,\n",
        "    color_mode=\"rgb\",\n",
        "    batch_size=batch_size,\n",
        "    image_size=(squared_size, squared_size),\n",
        "    shuffle=True,\n",
        "    seed=1,\n",
        "    validation_split=0.25,\n",
        "    subset=\"training\",\n",
        "    interpolation=\"bilinear\",\n",
        "    follow_links=False,\n",
        ")"
      ],
      "execution_count": null,
      "outputs": [
        {
          "output_type": "stream",
          "text": [
            "Found 16501 files belonging to 120 classes.\n",
            "Using 12376 files for training.\n"
          ],
          "name": "stdout"
        }
      ]
    },
    {
      "cell_type": "code",
      "metadata": {
        "colab": {
          "base_uri": "https://localhost:8080/"
        },
        "id": "1Oke2T2oCbbo",
        "outputId": "1063c8a4-69c8-4711-d48a-264dfdc57a35"
      },
      "source": [
        "len(train_ds)"
      ],
      "execution_count": null,
      "outputs": [
        {
          "output_type": "execute_result",
          "data": {
            "text/plain": [
              "194"
            ]
          },
          "metadata": {
            "tags": []
          },
          "execution_count": 59
        }
      ]
    },
    {
      "cell_type": "code",
      "metadata": {
        "colab": {
          "base_uri": "https://localhost:8080/"
        },
        "id": "j2ViOlWoCbbr",
        "outputId": "e3cce4de-e228-43b9-c9f2-bc97e8d32436"
      },
      "source": [
        "val_ds = keras.preprocessing.image_dataset_from_directory(fpath+\"train\",\r\n",
        "    labels=\"inferred\",\r\n",
        "    label_mode='int',\r\n",
        "    class_names=None,\r\n",
        "    color_mode=\"rgb\",\r\n",
        "    batch_size=batch_size,\r\n",
        "    image_size=(squared_size, squared_size),\r\n",
        "    shuffle=True,\r\n",
        "    seed=1,\r\n",
        "    validation_split=0.25,\r\n",
        "    subset=\"validation\",\r\n",
        "    interpolation=\"bilinear\",\r\n",
        "    follow_links=False)"
      ],
      "execution_count": null,
      "outputs": [
        {
          "output_type": "stream",
          "text": [
            "Found 16501 files belonging to 120 classes.\n",
            "Using 4125 files for validation.\n"
          ],
          "name": "stdout"
        }
      ]
    },
    {
      "cell_type": "code",
      "metadata": {
        "id": "MvuY38k5Rroo",
        "colab": {
          "base_uri": "https://localhost:8080/"
        },
        "outputId": "72251908-a338-4a7f-8886-1cb5bc666ef7"
      },
      "source": [
        "test_ds = keras.preprocessing.image_dataset_from_directory(fpath+\"test\",\r\n",
        "    labels=\"inferred\",\r\n",
        "    label_mode='int',\r\n",
        "    class_names=None,\r\n",
        "    color_mode=\"rgb\",\r\n",
        "    batch_size=batch_size,\r\n",
        "    image_size=(squared_size, squared_size),\r\n",
        "    shuffle=True,\r\n",
        "    seed=1,\r\n",
        "    validation_split=None,\r\n",
        "    subset=None,\r\n",
        "    interpolation=\"bilinear\",\r\n",
        "    follow_links=False,\r\n",
        ")"
      ],
      "execution_count": null,
      "outputs": [
        {
          "output_type": "stream",
          "text": [
            "Found 4080 files belonging to 120 classes.\n"
          ],
          "name": "stdout"
        }
      ]
    },
    {
      "cell_type": "code",
      "metadata": {
        "id": "fvdbdgHiUuU_",
        "colab": {
          "base_uri": "https://localhost:8080/"
        },
        "outputId": "ee39f238-e157-441b-9eed-701d4f4f4bb9"
      },
      "source": [
        "class_names = train_ds.class_names\r\n",
        "print(\"No of classes in Training dataset: \", len(class_names))\r\n",
        "class_names = val_ds.class_names\r\n",
        "print(\"No of classes in Validation dataset: \", len(class_names))\r\n",
        "class_names = test_ds.class_names\r\n",
        "print(\"No of classes in Test dataset: \", len(class_names))"
      ],
      "execution_count": null,
      "outputs": [
        {
          "output_type": "stream",
          "text": [
            "No of classes in Training dataset:  120\n",
            "No of classes in Validation dataset:  120\n",
            "No of classes in Test dataset:  120\n"
          ],
          "name": "stdout"
        }
      ]
    },
    {
      "cell_type": "code",
      "metadata": {
        "id": "kkLIsgYJTua_"
      },
      "source": [
        "from tensorflow.keras import layers\n",
        "data_augmentation = keras.Sequential(\n",
        "        [layers.experimental.preprocessing.RandomFlip(\"horizontal\"),\n",
        "         layers.experimental.preprocessing.RandomRotation(0.1)])"
      ],
      "execution_count": null,
      "outputs": []
    },
    {
      "cell_type": "markdown",
      "metadata": {
        "id": "Gu8Fi00wAQqL"
      },
      "source": [
        "Xception Model is proposed by Francois Chollet. Xception is an extension of the inception Architecture which replaces the standard Inception modules with depthwise Separable Convolutions."
      ]
    },
    {
      "cell_type": "code",
      "metadata": {
        "colab": {
          "base_uri": "https://localhost:8080/"
        },
        "id": "TChFHcgwhQkn",
        "outputId": "cd3d8cc9-9e17-4ad2-c1c1-b2a92b2e420e"
      },
      "source": [
        "base_model = keras.applications.Xception(\r\n",
        "             weights=\"imagenet\", \r\n",
        "             input_shape=(squared_size, squared_size, 3),\r\n",
        "             include_top=False)\r\n",
        "# Freeze the base_model\r\n",
        "base_model.trainable = False\r\n",
        "# base_model.summary()"
      ],
      "execution_count": null,
      "outputs": [
        {
          "output_type": "stream",
          "text": [
            "Downloading data from https://storage.googleapis.com/tensorflow/keras-applications/xception/xception_weights_tf_dim_ordering_tf_kernels_notop.h5\n",
            "83689472/83683744 [==============================] - 1s 0us/step\n"
          ],
          "name": "stdout"
        }
      ]
    },
    {
      "cell_type": "code",
      "metadata": {
        "id": "khrB-AxJNl2Z",
        "colab": {
          "base_uri": "https://localhost:8080/"
        },
        "outputId": "13d2d532-50b2-4578-ae99-ed3beb28ee30"
      },
      "source": [
        "# Create new model on top\n",
        "\n",
        "inputs = keras.Input(shape=(squared_size, squared_size, 3))\n",
        "# Preprocess for input images as xception base model\n",
        "x = keras.applications.xception.preprocess_input(inputs)\n",
        "# Apply random data augmentation\n",
        "# x = data_augmentation(x)   \n",
        "x = base_model(x, training=False)\n",
        "x = keras.layers.GlobalAveragePooling2D()(x)\n",
        "x = keras.layers.Dense(1024, activation= \"relu\")(x)\n",
        "# Regularize with dropout\n",
        "x = keras.layers.Dropout(0.2)(x)  \n",
        "outputs = keras.layers.Dense(len(categories),activation=\"softmax\")(x)\n",
        "xception_model = keras.Model(inputs, outputs)\n",
        "xception_model.summary()"
      ],
      "execution_count": null,
      "outputs": [
        {
          "output_type": "stream",
          "text": [
            "Model: \"model\"\n",
            "_________________________________________________________________\n",
            "Layer (type)                 Output Shape              Param #   \n",
            "=================================================================\n",
            "input_2 (InputLayer)         [(None, 299, 299, 3)]     0         \n",
            "_________________________________________________________________\n",
            "tf.math.truediv (TFOpLambda) (None, 299, 299, 3)       0         \n",
            "_________________________________________________________________\n",
            "tf.math.subtract (TFOpLambda (None, 299, 299, 3)       0         \n",
            "_________________________________________________________________\n",
            "xception (Functional)        (None, 10, 10, 2048)      20861480  \n",
            "_________________________________________________________________\n",
            "global_average_pooling2d (Gl (None, 2048)              0         \n",
            "_________________________________________________________________\n",
            "dense (Dense)                (None, 1024)              2098176   \n",
            "_________________________________________________________________\n",
            "dropout (Dropout)            (None, 1024)              0         \n",
            "_________________________________________________________________\n",
            "dense_1 (Dense)              (None, 120)               123000    \n",
            "=================================================================\n",
            "Total params: 23,082,656\n",
            "Trainable params: 2,221,176\n",
            "Non-trainable params: 20,861,480\n",
            "_________________________________________________________________\n"
          ],
          "name": "stdout"
        }
      ]
    },
    {
      "cell_type": "code",
      "metadata": {
        "colab": {
          "base_uri": "https://localhost:8080/"
        },
        "id": "ExlPaX_6wRbG",
        "outputId": "8f35ab90-b647-4eeb-ee9d-ac5f6b99808e"
      },
      "source": [
        "# Let's take a look to see how many layers are in the base model\r\n",
        "print(\"Number of layers in the base model: \", len(base_model.layers))\r\n",
        "print(\"Number of layers in the xception model: \", len(xception_model.layers))\r\n",
        "print(len(base_model.trainable_variables))\r\n",
        "print(len(xception_model.trainable_variables))"
      ],
      "execution_count": null,
      "outputs": [
        {
          "output_type": "stream",
          "text": [
            "Number of layers in the base model:  132\n",
            "Number of layers in the xception model:  8\n",
            "0\n",
            "4\n"
          ],
          "name": "stdout"
        }
      ]
    },
    {
      "cell_type": "code",
      "metadata": {
        "id": "nl0jmJ4ReYd2"
      },
      "source": [
        "xception_model.compile(optimizer=\"adam\",\n",
        "              loss=\"sparse_categorical_crossentropy\", \n",
        "              metrics=[\"accuracy\"])"
      ],
      "execution_count": null,
      "outputs": []
    },
    {
      "cell_type": "code",
      "metadata": {
        "id": "JSq1AmJp4uD0"
      },
      "source": [
        "initial_epochs = 10\r\n",
        "\r\n",
        "checkpoint_filepath = \"/content/drive/My Drive/OC_P6_images/saved_models/weights.best.xception.hdf5\"\r\n",
        "\r\n",
        "callbacks_list = [\r\n",
        "  ModelCheckpoint(checkpoint_filepath, monitor='val_accuracy', verbose=1, save_best_only=True),\r\n",
        "    EarlyStopping(monitor='val_accuracy', patience=5, verbose=0)]"
      ],
      "execution_count": null,
      "outputs": []
    },
    {
      "cell_type": "code",
      "metadata": {
        "colab": {
          "base_uri": "https://localhost:8080/"
        },
        "id": "GUP9di4pY74u",
        "outputId": "ee5b33e1-7f1c-4ee9-8298-2bc1d414790c"
      },
      "source": [
        "%%time\r\n",
        "history = xception_model.fit(train_ds, validation_data = val_ds, epochs=initial_epochs, callbacks=[callbacks_list])"
      ],
      "execution_count": null,
      "outputs": [
        {
          "output_type": "stream",
          "text": [
            "Epoch 1/10\n",
            "194/194 [==============================] - 4292s 21s/step - loss: 1.6513 - accuracy: 0.6583 - val_loss: 0.4822 - val_accuracy: 0.8548\n",
            "\n",
            "Epoch 00001: val_accuracy improved from -inf to 0.85479, saving model to /content/drive/My Drive/OC_P6_images/saved_models/weights.best.xception.hdf5\n",
            "Epoch 2/10\n",
            "194/194 [==============================] - 173s 887ms/step - loss: 0.4053 - accuracy: 0.8759 - val_loss: 0.4486 - val_accuracy: 0.8647\n",
            "\n",
            "Epoch 00002: val_accuracy improved from 0.85479 to 0.86473, saving model to /content/drive/My Drive/OC_P6_images/saved_models/weights.best.xception.hdf5\n",
            "Epoch 3/10\n",
            "194/194 [==============================] - 173s 886ms/step - loss: 0.3075 - accuracy: 0.9018 - val_loss: 0.4441 - val_accuracy: 0.8667\n",
            "\n",
            "Epoch 00003: val_accuracy improved from 0.86473 to 0.86667, saving model to /content/drive/My Drive/OC_P6_images/saved_models/weights.best.xception.hdf5\n",
            "Epoch 4/10\n",
            "194/194 [==============================] - 173s 884ms/step - loss: 0.2396 - accuracy: 0.9193 - val_loss: 0.4568 - val_accuracy: 0.8669\n",
            "\n",
            "Epoch 00004: val_accuracy improved from 0.86667 to 0.86691, saving model to /content/drive/My Drive/OC_P6_images/saved_models/weights.best.xception.hdf5\n",
            "Epoch 5/10\n",
            "194/194 [==============================] - 173s 886ms/step - loss: 0.2029 - accuracy: 0.9314 - val_loss: 0.4954 - val_accuracy: 0.8655\n",
            "\n",
            "Epoch 00005: val_accuracy did not improve from 0.86691\n",
            "Epoch 6/10\n",
            "194/194 [==============================] - 173s 884ms/step - loss: 0.1644 - accuracy: 0.9446 - val_loss: 0.4883 - val_accuracy: 0.8681\n",
            "\n",
            "Epoch 00006: val_accuracy improved from 0.86691 to 0.86812, saving model to /content/drive/My Drive/OC_P6_images/saved_models/weights.best.xception.hdf5\n",
            "Epoch 7/10\n",
            "194/194 [==============================] - 173s 885ms/step - loss: 0.1370 - accuracy: 0.9518 - val_loss: 0.5119 - val_accuracy: 0.8691\n",
            "\n",
            "Epoch 00007: val_accuracy improved from 0.86812 to 0.86909, saving model to /content/drive/My Drive/OC_P6_images/saved_models/weights.best.xception.hdf5\n",
            "Epoch 8/10\n",
            "194/194 [==============================] - 173s 886ms/step - loss: 0.1240 - accuracy: 0.9589 - val_loss: 0.5231 - val_accuracy: 0.8667\n",
            "\n",
            "Epoch 00008: val_accuracy did not improve from 0.86909\n",
            "Epoch 9/10\n",
            "194/194 [==============================] - 173s 884ms/step - loss: 0.1202 - accuracy: 0.9563 - val_loss: 0.5515 - val_accuracy: 0.8611\n",
            "\n",
            "Epoch 00009: val_accuracy did not improve from 0.86909\n",
            "Epoch 10/10\n",
            "194/194 [==============================] - 173s 885ms/step - loss: 0.0901 - accuracy: 0.9705 - val_loss: 0.5607 - val_accuracy: 0.8638\n",
            "\n",
            "Epoch 00010: val_accuracy did not improve from 0.86909\n",
            "CPU times: user 9min 7s, sys: 1min 12s, total: 10min 20s\n",
            "Wall time: 1h 37min 38s\n"
          ],
          "name": "stdout"
        }
      ]
    },
    {
      "cell_type": "code",
      "metadata": {
        "id": "McilPViR7bjP",
        "colab": {
          "base_uri": "https://localhost:8080/",
          "height": 498
        },
        "outputId": "2b7d9c9c-bd8a-469d-8d48-5e112982adc0"
      },
      "source": [
        "acc = history.history['accuracy']\r\n",
        "val_acc = history.history['val_accuracy']\r\n",
        "loss = history.history['loss']\r\n",
        "val_loss = history.history['val_loss']\r\n",
        "epochs=len(acc)\r\n",
        "epochs_range = range(epochs)\r\n",
        "\r\n",
        "plt.figure(figsize=(8, 8))\r\n",
        "plt.subplot(1, 2, 1)\r\n",
        "plt.plot(epochs_range, acc, label='Training Accuracy')\r\n",
        "plt.plot(epochs_range, val_acc, label='Validation Accuracy')\r\n",
        "plt.legend(loc='lower right')\r\n",
        "plt.title('Training and Validation Accuracy')\r\n",
        "\r\n",
        "plt.subplot(1, 2, 2)\r\n",
        "plt.plot(epochs_range, loss, label='Training Loss')\r\n",
        "plt.plot(epochs_range, val_loss, label='Validation Loss')\r\n",
        "plt.legend(loc='upper right')\r\n",
        "plt.title('Training and Validation Loss')\r\n",
        "plt.show()"
      ],
      "execution_count": null,
      "outputs": [
        {
          "output_type": "display_data",
          "data": {
            "image/png": "[encoded data removed]",
            "text/plain": [
              "<Figure size 576x576 with 2 Axes>"
            ]
          },
          "metadata": {
            "tags": [],
            "needs_background": "light"
          }
        }
      ]
    },
    {
      "cell_type": "markdown",
      "metadata": {
        "id": "UxGcHUT7aMzw"
      },
      "source": [
        "At this point we have the pre-train weights of the base model and the trained weight of the new/added top model\r\n",
        "We re-load model weights to ensure the best epoch is selected and not the last one.\r\n",
        "    "
      ]
    },
    {
      "cell_type": "code",
      "metadata": {
        "id": "jRw2JkFby74J"
      },
      "source": [
        "# Load the Model with the Best Validation Loss\r\n",
        "xception_model.load_weights('/content/drive/My Drive/OC_P6_images/saved_models/weights.best.xception.hdf5')"
      ],
      "execution_count": null,
      "outputs": []
    },
    {
      "cell_type": "code",
      "metadata": {
        "colab": {
          "base_uri": "https://localhost:8080/"
        },
        "id": "moqBYXfJwy56",
        "outputId": "7e344bf1-8a63-4d7c-8c67-9b480bceead4"
      },
      "source": [
        "xception_loss, xception_accuracy = xception_model.evaluate(test_ds)\r\n",
        "print(xception_loss, xception_accuracy)"
      ],
      "execution_count": null,
      "outputs": [
        {
          "output_type": "stream",
          "text": [
            "64/64 [==============================] - 42s 637ms/step - loss: 0.5393 - accuracy: 0.8569\n",
            "0.5392599701881409 0.8568627238273621\n"
          ],
          "name": "stdout"
        }
      ]
    },
    {
      "cell_type": "markdown",
      "metadata": {
        "id": "iOvDllnyamIw"
      },
      "source": [
        "\"fine_tune\" points to the layer in your model you want to train.\r\n",
        "Layers before this number will used the pre-trained weights, layers above and including this number will be re-trained based on the new data.\r\n",
        "    "
      ]
    },
    {
      "cell_type": "code",
      "metadata": {
        "id": "Bbchd1lYx-4c"
      },
      "source": [
        "base_model.trainable = True\r\n",
        "# Fine-tune from this layer onwards\r\n",
        "fine_tune = 127\r\n",
        "for layer in base_model.layers[:fine_tune]:\r\n",
        "    layer.trainable =  False"
      ],
      "execution_count": null,
      "outputs": []
    },
    {
      "cell_type": "code",
      "metadata": {
        "id": "mId3L1dnyO9H"
      },
      "source": [
        "xception_model.compile(optimizer=keras.optimizers.Adam(1e-5),  # Low learning rate\r\n",
        "              loss=\"sparse_categorical_crossentropy\", \r\n",
        "              metrics=[\"accuracy\"])"
      ],
      "execution_count": null,
      "outputs": []
    },
    {
      "cell_type": "code",
      "metadata": {
        "colab": {
          "base_uri": "https://localhost:8080/"
        },
        "id": "rV9Qy0S2yOGD",
        "outputId": "c07e5e02-90c1-45ee-9c1a-91a7dcf3941d"
      },
      "source": [
        "print(\"Number of layers: \", len(base_model.layers))\r\n",
        "print(\"Number of layers: \", len(xception_model.layers))\r\n",
        "print(len(base_model.trainable_variables))\r\n",
        "print(len(xception_model.trainable_variables))"
      ],
      "execution_count": null,
      "outputs": [
        {
          "output_type": "stream",
          "text": [
            "Number of layers:  132\n",
            "Number of layers:  8\n",
            "6\n",
            "10\n"
          ],
          "name": "stdout"
        }
      ]
    },
    {
      "cell_type": "code",
      "metadata": {
        "id": "ItmHtX9w6GYH"
      },
      "source": [
        "fine_tune_epochs = 10\r\n",
        "\r\n",
        "# save weights of best training epoch\r\n",
        "final_weights_filepath = \"/content/drive/My Drive/OC_P6_images/saved_models/xception.weights.hdf5\"\r\n",
        "callbacks_list = [\r\n",
        "        ModelCheckpoint(final_weights_filepath, monitor='val_accuracy', verbose=1, save_best_only=True),\r\n",
        "        EarlyStopping(monitor='val_loss', patience=5, verbose=0)\r\n",
        "    ]"
      ],
      "execution_count": null,
      "outputs": []
    },
    {
      "cell_type": "code",
      "metadata": {
        "colab": {
          "base_uri": "https://localhost:8080/"
        },
        "id": "Unf2XijLypdP",
        "outputId": "25708044-ba66-4d5b-9c20-fa5bb8e62bb8"
      },
      "source": [
        "%%time\r\n",
        "history_fine = xception_model.fit(train_ds, validation_data = val_ds, epochs=fine_tune_epochs, callbacks=[callbacks_list])"
      ],
      "execution_count": null,
      "outputs": [
        {
          "output_type": "stream",
          "text": [
            "Epoch 1/10\n",
            "194/194 [==============================] - 182s 919ms/step - loss: 0.1167 - accuracy: 0.9641 - val_loss: 0.4522 - val_accuracy: 0.8824\n",
            "\n",
            "Epoch 00001: val_accuracy improved from -inf to 0.88242, saving model to /content/drive/My Drive/OC_P6_images/saved_models/xception.weights.hdf5\n",
            "Epoch 2/10\n",
            "194/194 [==============================] - 181s 924ms/step - loss: 0.0820 - accuracy: 0.9751 - val_loss: 0.4459 - val_accuracy: 0.8824\n",
            "\n",
            "Epoch 00002: val_accuracy did not improve from 0.88242\n",
            "Epoch 3/10\n",
            "194/194 [==============================] - 181s 925ms/step - loss: 0.0718 - accuracy: 0.9785 - val_loss: 0.4478 - val_accuracy: 0.8817\n",
            "\n",
            "Epoch 00003: val_accuracy did not improve from 0.88242\n",
            "Epoch 4/10\n",
            "194/194 [==============================] - 181s 924ms/step - loss: 0.0682 - accuracy: 0.9803 - val_loss: 0.4514 - val_accuracy: 0.8827\n",
            "\n",
            "Epoch 00004: val_accuracy improved from 0.88242 to 0.88267, saving model to /content/drive/My Drive/OC_P6_images/saved_models/xception.weights.hdf5\n",
            "Epoch 5/10\n",
            "194/194 [==============================] - 181s 925ms/step - loss: 0.0632 - accuracy: 0.9805 - val_loss: 0.4543 - val_accuracy: 0.8839\n",
            "\n",
            "Epoch 00005: val_accuracy improved from 0.88267 to 0.88388, saving model to /content/drive/My Drive/OC_P6_images/saved_models/xception.weights.hdf5\n",
            "Epoch 6/10\n",
            "194/194 [==============================] - 181s 926ms/step - loss: 0.0580 - accuracy: 0.9821 - val_loss: 0.4581 - val_accuracy: 0.8839\n",
            "\n",
            "Epoch 00006: val_accuracy did not improve from 0.88388\n",
            "Epoch 7/10\n",
            "194/194 [==============================] - 180s 924ms/step - loss: 0.0544 - accuracy: 0.9832 - val_loss: 0.4624 - val_accuracy: 0.8829\n",
            "\n",
            "Epoch 00007: val_accuracy did not improve from 0.88388\n",
            "CPU times: user 6min 57s, sys: 1min 9s, total: 8min 6s\n",
            "Wall time: 21min 10s\n"
          ],
          "name": "stdout"
        }
      ]
    },
    {
      "cell_type": "code",
      "metadata": {
        "id": "31pItVFu2liU"
      },
      "source": [
        "# Load the Model with the Best Validation Loss\r\n",
        "xception_model.load_weights('/content/drive/My Drive/OC_P6_images/saved_models/xception.weights.hdf5')"
      ],
      "execution_count": null,
      "outputs": []
    },
    {
      "cell_type": "code",
      "metadata": {
        "colab": {
          "base_uri": "https://localhost:8080/"
        },
        "id": "tlBMRBDIzYeF",
        "outputId": "8d9df45c-6604-463e-bf69-bfa8880d6e56"
      },
      "source": [
        "xception_loss, xception_accuracy = xception_model.evaluate(test_ds)\r\n",
        "print(xception_loss, xception_accuracy)"
      ],
      "execution_count": null,
      "outputs": [
        {
          "output_type": "stream",
          "text": [
            "64/64 [==============================] - 43s 650ms/step - loss: 0.4904 - accuracy: 0.8730\n",
            "0.4904208481311798 0.873039186000824\n"
          ],
          "name": "stdout"
        }
      ]
    },
    {
      "cell_type": "code",
      "metadata": {
        "id": "Sn7VdAJm2awh"
      },
      "source": [
        "xception_model.compile(optimizer=keras.optimizers.Adam(1e-7),  # Low learning rate\r\n",
        "              loss=\"sparse_categorical_crossentropy\", \r\n",
        "              metrics=[\"accuracy\"])"
      ],
      "execution_count": null,
      "outputs": []
    },
    {
      "cell_type": "code",
      "metadata": {
        "id": "0z4dzJbM2awj"
      },
      "source": [
        "fine_tune_epochs = 20\r\n",
        "callbacks_list = [\r\n",
        "        ModelCheckpoint(final_weights_filepath, monitor='val_accuracy', verbose=1, save_best_only=True),\r\n",
        "        EarlyStopping(monitor='val_loss', patience=10, verbose=0)]"
      ],
      "execution_count": null,
      "outputs": []
    },
    {
      "cell_type": "code",
      "metadata": {
        "colab": {
          "base_uri": "https://localhost:8080/"
        },
        "id": "XRRGXpdn2awk",
        "outputId": "e0491b9a-ebe2-491e-df53-53d92aeb1a20"
      },
      "source": [
        "%%time\r\n",
        "history_fine = xception_model.fit(train_ds, validation_data = val_ds, epochs=fine_tune_epochs, callbacks=[callbacks_list])"
      ],
      "execution_count": null,
      "outputs": [
        {
          "output_type": "stream",
          "text": [
            "Epoch 1/20\n",
            "194/194 [==============================] - 183s 927ms/step - loss: 0.0596 - accuracy: 0.9811 - val_loss: 0.4545 - val_accuracy: 0.8846\n",
            "\n",
            "Epoch 00001: val_accuracy improved from -inf to 0.88461, saving model to /content/drive/My Drive/OC_P6_images/saved_models/xception.weights.hdf5\n",
            "Epoch 2/20\n",
            "194/194 [==============================] - 181s 925ms/step - loss: 0.0565 - accuracy: 0.9832 - val_loss: 0.4545 - val_accuracy: 0.8846\n",
            "\n",
            "Epoch 00002: val_accuracy did not improve from 0.88461\n",
            "Epoch 3/20\n",
            "194/194 [==============================] - 181s 925ms/step - loss: 0.0575 - accuracy: 0.9824 - val_loss: 0.4545 - val_accuracy: 0.8846\n",
            "\n",
            "Epoch 00003: val_accuracy did not improve from 0.88461\n",
            "Epoch 4/20\n",
            "194/194 [==============================] - 181s 925ms/step - loss: 0.0593 - accuracy: 0.9808 - val_loss: 0.4545 - val_accuracy: 0.8846\n",
            "\n",
            "Epoch 00004: val_accuracy did not improve from 0.88461\n",
            "Epoch 5/20\n",
            " 29/194 [===>..........................] - ETA: 1:56 - loss: 0.0583 - accuracy: 0.9844"
          ],
          "name": "stdout"
        }
      ]
    },
    {
      "cell_type": "code",
      "metadata": {
        "id": "1cYIC2UDmDtv"
      },
      "source": [
        "# Load the Model with the Best Validation Loss\r\n",
        "xception_model.load_weights('/content/drive/My Drive/OC_P6_images/saved_models/xception.weights.hdf5')"
      ],
      "execution_count": null,
      "outputs": []
    },
    {
      "cell_type": "code",
      "metadata": {
        "colab": {
          "base_uri": "https://localhost:8080/"
        },
        "id": "AQZEVdU7LaKm",
        "outputId": "69e1c1ce-541b-47c5-9c48-8736073e3739"
      },
      "source": [
        "xception_loss, xception_accuracy = xception_model.evaluate(test_ds)\r\n",
        "print(xception_loss, xception_accuracy)"
      ],
      "execution_count": null,
      "outputs": [
        {
          "output_type": "stream",
          "text": [
            "64/64 [==============================] - 43s 650ms/step - loss: 0.4822 - accuracy: 0.8728\n",
            "0.4821702539920807 0.8727940917015076\n"
          ],
          "name": "stdout"
        }
      ]
    },
    {
      "cell_type": "code",
      "metadata": {
        "id": "UuXQ12fijHEe"
      },
      "source": [
        "model_json = xception_model.to_json()\r\n",
        "with open(os.path.join(\"/content/drive/My Drive/OC_P6_images/saved_models/\", 'model.json'), 'w') as json_file:\r\n",
        "        json_file.write(model_json)"
      ],
      "execution_count": null,
      "outputs": []
    },
    {
      "cell_type": "code",
      "metadata": {
        "colab": {
          "base_uri": "https://localhost:8080/"
        },
        "id": "7IFBZoMf0j-O",
        "outputId": "9f5030a9-2fc1-4fff-9b42-d2356d0a9533"
      },
      "source": [
        "# from pathlib import Path\r\n",
        "\r\n",
        "# # Save neural network structure\r\n",
        "# model_structure = xception_model.to_json()\r\n",
        "# f = Path(\"model_structure.json\")\r\n",
        "# f.write_text(model_structure)"
      ],
      "execution_count": null,
      "outputs": [
        {
          "output_type": "execute_result",
          "data": {
            "text/plain": [
              "76289"
            ]
          },
          "metadata": {
            "tags": []
          },
          "execution_count": 74
        }
      ]
    },
    {
      "cell_type": "code",
      "metadata": {
        "id": "euGuIkoN02ws"
      },
      "source": [
        "# # Index of predicted dog breed for each image in test set\r\n",
        "# xception_predictions = [np.argmax(xception_model.predict(np.expand_dims(images, axis=0))) for feature in test_ds]\r\n",
        "\r\n",
        "# # Test accuracy\r\n",
        "# test_accuracy = 100*np.sum(np.array(xception_predictions)==np.argmax(labels, axis=1))/len(xception_predictions)\r\n",
        "# print('Test accuracy: %.2f%%' % test_accuracy)"
      ],
      "execution_count": null,
      "outputs": []
    },
    {
      "cell_type": "code",
      "metadata": {
        "id": "nwiw1VsJj_f1"
      },
      "source": [
        "keras.backend.clear_session()"
      ],
      "execution_count": null,
      "outputs": []
    }
  ]
}